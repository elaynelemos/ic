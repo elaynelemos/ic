{
 "cells": [
  {
   "cell_type": "markdown",
   "metadata": {},
   "source": [
    "# Avaliação de Desempenho"
   ]
  },
  {
   "cell_type": "markdown",
   "metadata": {},
   "source": [
    "## Introdução\n",
    "\n",
    "Vamos avaliar os desempenho do modelo KNN. Usaremos os dados gerados na etapa de pré-processamento e transformação."
   ]
  },
  {
   "cell_type": "markdown",
   "metadata": {},
   "source": [
    "## Questão 1)\n",
    "\n",
    "* Carregar os quatro arquivos gerados na etapa de pré-processamento e transformação.\n",
    "\n",
    "Sugestão para os nomes dos DataFrames: X_train, X_test, y_train e y_test."
   ]
  },
  {
   "cell_type": "code",
   "execution_count": 1,
   "metadata": {},
   "outputs": [
    {
     "data": {
      "text/html": [
       "<div>\n",
       "<style scoped>\n",
       "    .dataframe tbody tr th:only-of-type {\n",
       "        vertical-align: middle;\n",
       "    }\n",
       "\n",
       "    .dataframe tbody tr th {\n",
       "        vertical-align: top;\n",
       "    }\n",
       "\n",
       "    .dataframe thead th {\n",
       "        text-align: right;\n",
       "    }\n",
       "</style>\n",
       "<table border=\"1\" class=\"dataframe\">\n",
       "  <thead>\n",
       "    <tr style=\"text-align: right;\">\n",
       "      <th></th>\n",
       "      <th>account_length</th>\n",
       "      <th>number_vmail_messages</th>\n",
       "      <th>total_day_minutes</th>\n",
       "      <th>total_day_calls</th>\n",
       "      <th>total_day_charge</th>\n",
       "      <th>total_eve_minutes</th>\n",
       "      <th>total_eve_calls</th>\n",
       "      <th>total_eve_charge</th>\n",
       "      <th>total_night_minutes</th>\n",
       "      <th>total_night_calls</th>\n",
       "      <th>total_night_charge</th>\n",
       "      <th>total_intl_minutes</th>\n",
       "      <th>total_intl_calls</th>\n",
       "      <th>total_intl_charge</th>\n",
       "      <th>number_customer_service_calls</th>\n",
       "      <th>intl_plan_yes</th>\n",
       "      <th>voice_mail_plan_yes</th>\n",
       "    </tr>\n",
       "  </thead>\n",
       "  <tbody>\n",
       "    <tr>\n",
       "      <th>0</th>\n",
       "      <td>0.760331</td>\n",
       "      <td>0.0</td>\n",
       "      <td>0.254846</td>\n",
       "      <td>0.472393</td>\n",
       "      <td>0.254863</td>\n",
       "      <td>0.794336</td>\n",
       "      <td>0.752941</td>\n",
       "      <td>0.794565</td>\n",
       "      <td>0.412405</td>\n",
       "      <td>0.547059</td>\n",
       "      <td>0.412493</td>\n",
       "      <td>0.527919</td>\n",
       "      <td>0.111111</td>\n",
       "      <td>0.528195</td>\n",
       "      <td>0.333333</td>\n",
       "      <td>0.0</td>\n",
       "      <td>0.0</td>\n",
       "    </tr>\n",
       "    <tr>\n",
       "      <th>1</th>\n",
       "      <td>0.239669</td>\n",
       "      <td>0.0</td>\n",
       "      <td>0.307298</td>\n",
       "      <td>0.693252</td>\n",
       "      <td>0.307344</td>\n",
       "      <td>0.595546</td>\n",
       "      <td>0.735294</td>\n",
       "      <td>0.595600</td>\n",
       "      <td>0.550633</td>\n",
       "      <td>0.541176</td>\n",
       "      <td>0.550929</td>\n",
       "      <td>0.502538</td>\n",
       "      <td>0.166667</td>\n",
       "      <td>0.501880</td>\n",
       "      <td>0.222222</td>\n",
       "      <td>0.0</td>\n",
       "      <td>0.0</td>\n",
       "    </tr>\n",
       "    <tr>\n",
       "      <th>2</th>\n",
       "      <td>0.512397</td>\n",
       "      <td>0.0</td>\n",
       "      <td>0.546180</td>\n",
       "      <td>0.705521</td>\n",
       "      <td>0.546110</td>\n",
       "      <td>0.565301</td>\n",
       "      <td>0.635294</td>\n",
       "      <td>0.565513</td>\n",
       "      <td>0.532152</td>\n",
       "      <td>0.723529</td>\n",
       "      <td>0.532358</td>\n",
       "      <td>0.467005</td>\n",
       "      <td>0.166667</td>\n",
       "      <td>0.466165</td>\n",
       "      <td>0.222222</td>\n",
       "      <td>0.0</td>\n",
       "      <td>0.0</td>\n",
       "    </tr>\n",
       "    <tr>\n",
       "      <th>3</th>\n",
       "      <td>0.297521</td>\n",
       "      <td>0.0</td>\n",
       "      <td>0.685006</td>\n",
       "      <td>0.797546</td>\n",
       "      <td>0.684943</td>\n",
       "      <td>0.446797</td>\n",
       "      <td>0.488235</td>\n",
       "      <td>0.446781</td>\n",
       "      <td>0.587089</td>\n",
       "      <td>0.800000</td>\n",
       "      <td>0.587507</td>\n",
       "      <td>0.604061</td>\n",
       "      <td>0.166667</td>\n",
       "      <td>0.603383</td>\n",
       "      <td>0.000000</td>\n",
       "      <td>0.0</td>\n",
       "      <td>0.0</td>\n",
       "    </tr>\n",
       "    <tr>\n",
       "      <th>4</th>\n",
       "      <td>0.429752</td>\n",
       "      <td>0.0</td>\n",
       "      <td>0.651083</td>\n",
       "      <td>0.613497</td>\n",
       "      <td>0.651073</td>\n",
       "      <td>0.398955</td>\n",
       "      <td>0.635294</td>\n",
       "      <td>0.398900</td>\n",
       "      <td>0.621013</td>\n",
       "      <td>0.823529</td>\n",
       "      <td>0.621272</td>\n",
       "      <td>0.390863</td>\n",
       "      <td>0.388889</td>\n",
       "      <td>0.390977</td>\n",
       "      <td>0.000000</td>\n",
       "      <td>1.0</td>\n",
       "      <td>0.0</td>\n",
       "    </tr>\n",
       "  </tbody>\n",
       "</table>\n",
       "</div>"
      ],
      "text/plain": [
       "   account_length  number_vmail_messages  total_day_minutes  total_day_calls  \\\n",
       "0        0.760331                    0.0           0.254846         0.472393   \n",
       "1        0.239669                    0.0           0.307298         0.693252   \n",
       "2        0.512397                    0.0           0.546180         0.705521   \n",
       "3        0.297521                    0.0           0.685006         0.797546   \n",
       "4        0.429752                    0.0           0.651083         0.613497   \n",
       "\n",
       "   total_day_charge  total_eve_minutes  total_eve_calls  total_eve_charge  \\\n",
       "0          0.254863           0.794336         0.752941          0.794565   \n",
       "1          0.307344           0.595546         0.735294          0.595600   \n",
       "2          0.546110           0.565301         0.635294          0.565513   \n",
       "3          0.684943           0.446797         0.488235          0.446781   \n",
       "4          0.651073           0.398955         0.635294          0.398900   \n",
       "\n",
       "   total_night_minutes  total_night_calls  total_night_charge  \\\n",
       "0             0.412405           0.547059            0.412493   \n",
       "1             0.550633           0.541176            0.550929   \n",
       "2             0.532152           0.723529            0.532358   \n",
       "3             0.587089           0.800000            0.587507   \n",
       "4             0.621013           0.823529            0.621272   \n",
       "\n",
       "   total_intl_minutes  total_intl_calls  total_intl_charge  \\\n",
       "0            0.527919          0.111111           0.528195   \n",
       "1            0.502538          0.166667           0.501880   \n",
       "2            0.467005          0.166667           0.466165   \n",
       "3            0.604061          0.166667           0.603383   \n",
       "4            0.390863          0.388889           0.390977   \n",
       "\n",
       "   number_customer_service_calls  intl_plan_yes  voice_mail_plan_yes  \n",
       "0                       0.333333            0.0                  0.0  \n",
       "1                       0.222222            0.0                  0.0  \n",
       "2                       0.222222            0.0                  0.0  \n",
       "3                       0.000000            0.0                  0.0  \n",
       "4                       0.000000            1.0                  0.0  "
      ]
     },
     "execution_count": 1,
     "metadata": {},
     "output_type": "execute_result"
    }
   ],
   "source": [
    "# Importar os dados\n",
    "\n",
    "import pandas as pd\n",
    "\n",
    "\n",
    "X_train = pd.read_csv('data/Orange_Telecom_Churn_Data_X_train.csv')\n",
    "X_test = pd.read_csv('data/Orange_Telecom_Churn_Data_X_test.csv')\n",
    "y_train = pd.read_csv('data/Orange_Telecom_Churn_Data_y_train.csv')\n",
    "y_test = pd.read_csv('data/Orange_Telecom_Churn_Data_y_test.csv')\n",
    "\n",
    "X_train.head()"
   ]
  },
  {
   "cell_type": "markdown",
   "metadata": {},
   "source": [
    "## Questão 2)\n",
    "\n",
    "* Construir um modelo KNN (k=3) com os dados de treinamento. OBS: Use y_train.values.ravel(). values: fornecerá os valores em uma matriz. (forma: (n, 1) e ravel(): irá converter essa forma de matriz em (n,)"
   ]
  },
  {
   "cell_type": "code",
   "execution_count": 2,
   "metadata": {},
   "outputs": [],
   "source": [
    "# Construa um modelo KNN com k=3\n",
    "\n",
    "from sklearn.neighbors import KNeighborsClassifier\n",
    "\n",
    "KNN = KNeighborsClassifier(n_neighbors=3)\n",
    "\n",
    "KNN = KNN.fit(X_train, y_train.values.ravel())"
   ]
  },
  {
   "cell_type": "markdown",
   "metadata": {},
   "source": [
    "## Questão 3)\n",
    "\n",
    "* Faça a predição do modelo para o conjunto de teste"
   ]
  },
  {
   "cell_type": "code",
   "execution_count": 3,
   "metadata": {},
   "outputs": [],
   "source": [
    "# Realize a predição\n",
    "\n",
    "y_predict = KNN.predict(X_test)"
   ]
  },
  {
   "cell_type": "markdown",
   "metadata": {},
   "source": [
    "## Questão 4)\n",
    "\n",
    "Avalie a performance do classificador com as seguintes métricas:\n",
    "* Matriz de confusão;\n",
    "* Acurácia;\n",
    "* Área sobre a curva ROC;\n",
    "* Plote o gráfico da curva ROC."
   ]
  },
  {
   "cell_type": "code",
   "execution_count": 5,
   "metadata": {},
   "outputs": [
    {
     "data": {
      "image/png": "[encoded data removed]",
      "text/plain": [
       "<Figure size 432x288 with 2 Axes>"
      ]
     },
     "metadata": {
      "needs_background": "light"
     },
     "output_type": "display_data"
    }
   ],
   "source": [
    "#Plotar a matriz de confusão. Ver site abaixo:\n",
    "#https://scikit-learn.org/stable/modules/generated/sklearn.metrics.plot_confusion_matrix.html#sklearn.metrics.plot_confusion_matrix\n",
    "\n",
    "from sklearn.metrics import plot_confusion_matrix\n",
    "import matplotlib.pyplot as plt\n",
    "\n",
    "plot_confusion_matrix(KNN, X_test, y_test)  \n",
    "plt.show()"
   ]
  },
  {
   "cell_type": "code",
   "execution_count": 6,
   "metadata": {},
   "outputs": [
    {
     "data": {
      "text/plain": [
       "0.8113333333333334"
      ]
     },
     "execution_count": 6,
     "metadata": {},
     "output_type": "execute_result"
    }
   ],
   "source": [
    "# Acurácia\n",
    "\n",
    "from sklearn.metrics import accuracy_score\n",
    "\n",
    "accuracy_score(y_test, y_predict)"
   ]
  },
  {
   "cell_type": "code",
   "execution_count": 8,
   "metadata": {},
   "outputs": [
    {
     "data": {
      "text/plain": [
       "0.49725226373957926"
      ]
     },
     "execution_count": 8,
     "metadata": {},
     "output_type": "execute_result"
    }
   ],
   "source": [
    "# Área sobre a curva ROC\n",
    "\n",
    "from sklearn.metrics import roc_auc_score\n",
    "\n",
    "roc_auc_score(y_test, y_predict, average=None)"
   ]
  },
  {
   "cell_type": "code",
   "execution_count": 9,
   "metadata": {},
   "outputs": [
    {
     "data": {
      "image/png": "[encoded data removed]",
      "text/plain": [
       "<Figure size 432x288 with 1 Axes>"
      ]
     },
     "metadata": {
      "needs_background": "light"
     },
     "output_type": "display_data"
    }
   ],
   "source": [
    "# Plotar a curva ROC\n",
    "\n",
    "from sklearn.metrics import plot_roc_curve\n",
    "\n",
    "plot_roc_curve(KNN, X_test, y_test)\n",
    "plt.show()  "
   ]
  }
 ],
 "metadata": {
  "kernelspec": {
   "display_name": "Python 3 (ipykernel)",
   "language": "python",
   "name": "python3"
  },
  "language_info": {
   "codemirror_mode": {
    "name": "ipython",
    "version": 3
   },
   "file_extension": ".py",
   "mimetype": "text/x-python",
   "name": "python",
   "nbconvert_exporter": "python",
   "pygments_lexer": "ipython3",
   "version": "3.8.10"
  }
 },
 "nbformat": 4,
 "nbformat_minor": 4
}
